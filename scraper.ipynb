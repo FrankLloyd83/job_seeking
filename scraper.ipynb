{
 "cells": [
  {
   "cell_type": "code",
   "execution_count": 1,
   "metadata": {},
   "outputs": [],
   "source": [
    "# Import libraries to do webscraping on fr.indeed.com\n",
    "import requests\n",
    "from bs4 import BeautifulSoup\n",
    "import pandas as pd"
   ]
  },
  {
   "cell_type": "code",
   "execution_count": 2,
   "metadata": {},
   "outputs": [],
   "source": [
    "# Create a function to get the job title\n",
    "def get_job_title(soup):\n",
    "    for li in soup.find_all(name='li', attrs={'class':'css-5lfssm eu4oa1w0'}):\n",
    "        for h2 in li.find_all(name='h2', attrs={'class':'jobTitle css-198pbd eu4oa1w0'}):\n",
    "            return h2['tabindex']"
   ]
  },
  {
   "cell_type": "code",
   "execution_count": 4,
   "metadata": {},
   "outputs": [
    {
     "name": "stdout",
     "output_type": "stream",
     "text": [
      "None\n"
     ]
    }
   ],
   "source": [
    "# Get the job title using get_job_title()\n",
    "soup = BeautifulSoup(requests.get('https://fr.indeed.com/emplois?q=data+engineer+30%C2%A0000+%E2%82%AC&l=Paris+%2875%29&radius=10&sc=0kf%3Aattr%28FM8WH%7CPMS5Q%7CSAP7A%252COR%29%3B&vjk=9b882f14d4b5a186&advn=7476650384558381').text, 'html.parser')\n",
    "print(get_job_title(soup))"
   ]
  }
 ],
 "metadata": {
  "kernelspec": {
   "display_name": "Python 3",
   "language": "python",
   "name": "python3"
  },
  "language_info": {
   "codemirror_mode": {
    "name": "ipython",
    "version": 3
   },
   "file_extension": ".py",
   "mimetype": "text/x-python",
   "name": "python",
   "nbconvert_exporter": "python",
   "pygments_lexer": "ipython3",
   "version": "3.10.7"
  }
 },
 "nbformat": 4,
 "nbformat_minor": 2
}
