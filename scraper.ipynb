{
 "cells": [
  {
   "cell_type": "code",
   "execution_count": 80,
   "metadata": {},
   "outputs": [],
   "source": [
    "import requests\n",
    "from bs4 import BeautifulSoup as Soup\n",
    "import brotli\n",
    "import pandas as pd\n",
    "import json\n",
    "import string"
   ]
  },
  {
   "cell_type": "code",
   "execution_count": 2,
   "metadata": {},
   "outputs": [],
   "source": [
    "url = \"http://fr.indeed.com/emplois?q=data+engineer&l=Paris&radius=10\"\n",
    "headers = {\"User-Agent\": \"Mozilla/5.0 (Windows NT 10.0) AppleWebKit/537.36 (KHTML, like Gecko) Chrome/104.0.0.0 Safari/537.36\",\n",
    "    \"Accept-Encoding\": \"gzip, deflate, br\",\n",
    "    \"Accept\": \"text/html,application/xhtml+xml,application/xml;q=0.9,image/webp,image/apng,*/*;q=0.8\",\n",
    "    \"Connection\": \"keep-alive\",\n",
    "    \"Accept-Language\": \"en-US,en;q=0.9,lt;q=0.8,et;q=0.7,de;q=0.6\",\n",
    "}"
   ]
  },
  {
   "cell_type": "code",
   "execution_count": 68,
   "metadata": {},
   "outputs": [
    {
     "name": "stdout",
     "output_type": "stream",
     "text": [
      "text/html;charset=UTF-8\n",
      "Error decompressing content: BrotliDecompress failed\n"
     ]
    }
   ],
   "source": [
    "df = pd.DataFrame({}, columns=[\"title\", \"company\", \"city\", \"min_salary\", \"max_salary\", \"frequency\"])\n",
    "\n",
    "resp = requests.get(url, headers=headers)\n",
    "# Détecter l'encodage spécifié dans les headers\n",
    "content_type = resp.headers.get('Content-Type', '')\n",
    "print(content_type)\n",
    "encoding = 'utf-8'  # Encodage par défaut\n",
    "if 'charset=' in content_type:\n",
    "    encoding = content_type.split('charset=')[-1]\n",
    "# Décompresser le contenu si encodé en Brotli\n",
    "if resp.headers.get('Content-Encoding') == 'br':\n",
    "    try:\n",
    "        decompressed_content = brotli.decompress(resp.content)\n",
    "        text = decompressed_content.decode(encoding)\n",
    "    except Exception as e:\n",
    "        print(\"Error decompressing content:\", e)\n",
    "        text = resp.text\n",
    "else:\n",
    "    text = resp.text  # Utiliser la méthode text qui gère automatiquement l'encodage\n",
    "# Parser le contenu HTML avec BeautifulSoup\n",
    "soup = Soup(text, \"html.parser\")\n",
    "\n",
    "contents = soup.find_all(\"li\", {\"class\": \"css-5lfssm eu4oa1w0\"})\n",
    "\n",
    "for element in contents[:-5]:\n",
    "    element_dict={}\n",
    "    head = element.find(\"h2\", {\"class\": \"jobTitle css-198pbd eu4oa1w0\"})\n",
    "    location = element.find(\"div\", {\"class\": \"company_location css-17fky0v e37uo190\"})\n",
    "    if head is not None:\n",
    "        title = head.find(\"span\")[\"title\"]\n",
    "        element_dict[\"title\"] = title\n",
    "    else:\n",
    "        continue\n",
    "    if location is not None:\n",
    "        company_name = location.find(\"span\", {\"data-testid\":\"company-name\" , \"class\": \"css-63koeb eu4oa1w0\"})\n",
    "        if company_name is not None:\n",
    "            element_dict[\"company\"] = company_name.text\n",
    "        city = location.find(\"div\", {\"data-testid\":\"text-location\" , \"class\": \"css-1p0sjhy eu4oa1w0\"})\n",
    "        if city is not None:\n",
    "            element_dict[\"city\"] = city.text\n",
    "    metadata = element.find(\"div\", {\"class\":\"heading6 tapItem-gutter metadataContainer css-z5ecg7 eu4oa1w0\"})\n",
    "    if metadata is not None:\n",
    "        salary_block = metadata.find(\"div\", {\"class\":\"metadata salary-snippet-container css-5zy3wz eu4oa1w0\"})\n",
    "        if salary_block is not None:\n",
    "            salary = salary_block.find(\"div\", {\"data-testid\":\"attribute_snippet_testid\", \"class\":\"css-1cvvo1b eu4oa1w0\"})\n",
    "            boundaries = salary.text.split(\"€\")[:-1]\n",
    "            frequency = salary.text.split(\" \")[-1]\n",
    "            frequency_map = {\"mois\":\"mensuel\", \"an\":\"annuel\"}\n",
    "            element_dict[\"frequency\"] = frequency_map.get(frequency, \"autre\")\n",
    "            for boundary in boundaries:\n",
    "                if \"de\" in boundary.lower():\n",
    "                    element_dict[\"min_salary\"] = \"\".join(filter(str.isdigit, boundary))\n",
    "                elif \"à\" in boundary.lower():\n",
    "                    element_dict[\"max_salary\"] = \"\".join(filter(str.isdigit, boundary))\n",
    "\n",
    "    grade_span = element.find(\"span\", {\"data-testid\":\"holistic-rating\"})\n",
    "    if grade_span is not None:\n",
    "        grade = grade_span[\"aria-label\"].split(\" \")[0]\n",
    "    \n",
    "    url_job = \"http://fr.indeed.com\" + element.find(\"a\", {\"class\":\"jcs-JobTitle css-jspxzf eu4oa1w0\"})[\"href\"]\n",
    "    if any(element_dict.values()):\n",
    "        df = pd.concat([df, pd.DataFrame(element_dict, index=[0])], ignore_index=True)"
   ]
  },
  {
   "cell_type": "code",
   "execution_count": 6,
   "metadata": {},
   "outputs": [],
   "source": [
    "df.to_csv(\"data.csv\", index=False, sep=\";\", encoding=\"utf-8\")"
   ]
  },
  {
   "cell_type": "code",
   "execution_count": 91,
   "metadata": {},
   "outputs": [
    {
     "name": "stdout",
     "output_type": "stream",
     "text": [
      "http://fr.indeed.com/rc/clk?jk=f9fcb0cc4bf45e68&bb=yBpBdasUGwFfA30zGFo6JpQRaxGbB_m-ESA-YwOTKwibgqY9Nn72hNbKTiejqjIir4-lDbhcgoNUw6kNovr2AI88QfU1BCR4ublrsErzB_0llyaZXd2R2uzwxM7w81lA&xkcb=SoBd67M3A2T_FFyFiZ0BbzkdCdPP&fccid=f34c5c7a544de9ba&cmp=Cyber-University&ti=Ing%C3%A9nieur+Cloud&vjs=3\n",
      "python found in description of job Cloud Data Engineer - POEI\n",
      "azure found in description of job Cloud Data Engineer - POEI\n",
      "aws found in description of job Cloud Data Engineer - POEI\n",
      "gcp found in description of job Cloud Data Engineer - POEI\n",
      "scala found in description of job Cloud Data Engineer - POEI\n",
      "informatique found in description of job Cloud Data Engineer - POEI\n",
      "java found in description of job Cloud Data Engineer - POEI\n"
     ]
    }
   ],
   "source": [
    "print(url_job)\n",
    "response = requests.get(url_job, headers=headers)\n",
    "response.raise_for_status()\n",
    "html_content = response.content.decode(\"utf-8\")\n",
    "soup = Soup(html_content, \"html.parser\")\n",
    "script = [s for s in soup.find_all(\"script\") if \"datePublished\" in str(s)][0]\n",
    "\n",
    "kw = json.loads(open(\"resources/kw_list.json\").read())\n",
    "\n",
    "description = soup.find(\"div\", {\"id\": \"jobDescriptionText\",\"class\":\"jobsearch-JobComponent-description css-16y4thd eu4oa1w0\"})\n",
    "description_text = description.text.lower()\n",
    "description_text = description_text.translate(str.maketrans('', '', string.punctuation))\n",
    "\n",
    "if description is not None:\n",
    "    words = description_text.split(\" \")\n",
    "    for key in kw:\n",
    "        for word in kw[key]:\n",
    "            if word in words:\n",
    "                print(f\"{word} found in description of job {title}\")\n",
    "    "
   ]
  }
 ],
 "metadata": {
  "kernelspec": {
   "display_name": "Python 3",
   "language": "python",
   "name": "python3"
  },
  "language_info": {
   "codemirror_mode": {
    "name": "ipython",
    "version": 3
   },
   "file_extension": ".py",
   "mimetype": "text/x-python",
   "name": "python",
   "nbconvert_exporter": "python",
   "pygments_lexer": "ipython3",
   "version": "3.10.7"
  }
 },
 "nbformat": 4,
 "nbformat_minor": 2
}
