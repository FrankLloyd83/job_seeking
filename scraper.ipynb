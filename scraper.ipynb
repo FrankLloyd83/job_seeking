{
 "cells": [
  {
   "cell_type": "code",
   "execution_count": 1,
   "metadata": {},
   "outputs": [],
   "source": [
    "import requests\n",
    "from bs4 import BeautifulSoup as Soup\n",
    "import brotli\n",
    "import pandas as pd\n"
   ]
  },
  {
   "cell_type": "code",
   "execution_count": 2,
   "metadata": {},
   "outputs": [],
   "source": [
    "url = \"http://fr.indeed.com/emplois?q=data+engineer&l=Paris&radius=10\"\n",
    "headers = {\"User-Agent\": \"Mozilla/5.0 (Windows NT 10.0) AppleWebKit/537.36 (KHTML, like Gecko) Chrome/104.0.0.0 Safari/537.36\",\n",
    "    \"Accept-Encoding\": \"gzip, deflate, br\",\n",
    "    \"Accept\": \"text/html,application/xhtml+xml,application/xml;q=0.9,image/webp,image/apng,*/*;q=0.8\",\n",
    "    \"Connection\": \"keep-alive\",\n",
    "    \"Accept-Language\": \"en-US,en;q=0.9,lt;q=0.8,et;q=0.7,de;q=0.6\",\n",
    "}"
   ]
  },
  {
   "cell_type": "code",
   "execution_count": 18,
   "metadata": {},
   "outputs": [
    {
     "name": "stdout",
     "output_type": "stream",
     "text": [
      "text/html;charset=UTF-8\n",
      "Error decompressing content: BrotliDecompress failed\n",
      "https://fr.indeed.com/pagead/clk?mo=r&ad=-6NYlbfkN0AeFz1TRGbZndU5O3vrlIQpmrPI6f0p_To2HA7_S61zsB6Z63CvvIkS9ppMBqAgXWSyypVUdaCBCxAr86Frw0_87R17oJdI7RLH--GgE-7mHfyjmxGsD5iNLFdhp1WtfUWsVsQQ8Y4NigNHBsg920k9yjeySN0yOAD1OcxOxdWYawLk48W_UcXsWkGQe-iBMuqrVad-7o7GjMIX46K6ld77RS-v4WVD3yXPJzvjGW_vPM1J9iDVsWwVuoxTg8bCuecqdvOczjRyjca5v3BLM6tsAR_J4bhfV-hw52R2Myiko8hpFG1Ko2eXHMEXh7PZFBnl6uvGkRZ4XM5btE7-sm4c8XCHP_ymNjkCMh8lYnMPvcswdu5whk-DOzssofUZUr-Li3JpsL3qXItjU6KcBcH7rH1S3lWYod80_8SdAO-mLoA0R3XBCS05rmNu9nW3u1s6UgaiUODobXaoX6nFF0Ujjs9osmW4vqfd5Kl1yM_v6RLgeTdjb8M-VyX7zvaagQ5ngBVaSCKj79idMLpTjIpy9A-5YCApjxm85egFMhGmetqeizdPfCXm8PI3MXzrEbm4DiAOHE-tPROAOfO2hYMCGiTd-sTo4ezV0cJd5q7Yc-oINNyWZrObsKsoOBG-muYZJ6aXPiAThbeHgC1LHTWpDBQO7byqnPeV949F-Drgrv-utXMCXKkXSBvf_PuIvEiD0l2GYF1aXmMlMexsEvNvaxPV3QovbTZzpDznRzKBoL_g-twajLo8YmCuWmruIhCGx8gWB-NL8B0rp99wYYdp&xkcb=SoAw6_M3A2cDXGQHN50LbzkdCdPP&camk=nUmJqO2E8rjvaRm-8HjxdQ==&p=0&fvj=1&vjs=3\n",
      "https://fr.indeed.com/pagead/clk?mo=r&ad=-6NYlbfkN0AwMULmlYjVk_Br5rNmm-MHe0EXU9eEpgTPCbIqjx6pfNUp9Q-qHNdwfrntbkgol--EEbaGWTET8ga7RLqi3GQAYHMxoplypd2nqbHrptrINQ4eC5zq1Z4v5v9bqfQK3e6MFuQ28vb7dxzO8uJgvPW8BLa8BVOUmn_sye6nwqIzdKG7BvDQrd21h4oAAkq1H9HMPP9STIzmQVXZzGYMmx3jruu9cB5WQBiJppP7hmb7AflFXPFtfu7OmpOk9tx6WN3tdeYWxLS7mql3ze5saMoN_nMaXM-Qcm1Y-6EhFHNJEOW2CswYNw3-PLOoZg1WqxN-y8KjGDpQSiIEdlem9opy6ttBV-a3HJxi61Eq7rVMwyvFfjJ1hWoLTfbAEoxU-9kwTqBFAwXzeT7jbRJHeetriqeoeITIzOm5TfYpfgTDV0t1vSqm0cX-7t_wugVfRJ9pRHBdiHgnt_er8oHU6gT32dWUhDpZgQqO8jVl0O8TpA1mdxQ0f2bAN4XXH0aeOKioa1D7yeEXaC2X1fYpZ6r59kpkz4QVPpuIIvh3XucstbXeIGBhF_EdEZ6xD0hfkp6ndxq6e6A8z5ZxHDqdqKIzlDPrrPATtomsnkvvX6tzBrrhDjxmI3QS1PhhA0-_ZUhS5G7zaJZ_rE7J52zLtVZLqXOOzXXUIvlj2S8osBlTwd4aWdEslttYzok2cZTOZlqsbdLQuIPez93s8qL_jQXSuWNFPlWPYXtvSJXRV58wVBlpGunFq_3egpaXqSoh3tUMYggQKdIT_TIQbFLVA_bXcnULRzGLN-H4wrXhTvRwkmYZHMiWFWnoxpBnx9NVorKSkh0eAuqO4FK9MIZRqcS0km3M9GLiEZkpQoSsFYVY_OnB72L23UeG&xkcb=SoAZ6_M3A2cDXGQHN50JbzkdCdPP&camk=4HOcmqOLYrBnM6MEFBl5vA==&p=2&fvj=0&vjs=3\n",
      "https://fr.indeed.com/pagead/clk?mo=r&ad=-6NYlbfkN0Bj-xBWVmzs7UIwFa-9Zm6MwNuQFkwLehssDYDaWnvIcfjKVL75wTjLlw129X3kuhvhCPDgJpwb4AGzsaH-1-WJk1x5GVXJWdNkiMgJoewY1fNVKxOm6Yyp4Cczp1C5rrBRHKZ40IsiwU27RSfHH9zUtvcrLgL3bFsvf2XfWH8V4FDv4nXdQVaICvcSeKm346S7soYa-uhp6vgOa2reqe3v_FlrVSlsEt62HohEpG-RG4qoejlLMEdVysCoN0CX3IaSC5OpHv__dIPgGRuse6Yn47sp9b6Z-w2rLg3HxzBCGBTVuk5BT5_xT2D3CXPdc7YBwvFGJjAOnjwsvoRzx1OifDdxRkU5xADMcEf-Sf0iFFopc_deIkbAUAtuenDQreOycNnUyUxG3qOUyt1GTrcOAZPyYnvEmjTbWtmbotOdXJR6aWzsS2w09tLwv3D3pJg5h5JLmUwx8kIsLWU6oMpZx245PcGoUGKK3patAMLLJv1o-gXPloEMupymlEdLk4tjLCKd4mkIgBS6NznKn54DFS2KwiT3yicFhD-9Zy6T74EZki3GVMh1WorSonfk2Gni2iY9R6cgHYQAjEkSj7WPMu63Bpj2g1gfKtH65B-LmKwt4ev3BeIzNGRwijI2sLeamxO9s9KzkEbBWioOdLYlA7mUknSXMlFhikfZNteg2iGes5SJqokck-A3Ycvj0OUAGExyK2okfbAxsNJy6mv2lJ5axnUttMQSWwOXg5mn9pSCciIsXg-rp85sP9r4Rl12fj4C62b5vJVKR9epkqkMartxMiY8Ec3CkakXVf4VAQloPmDJVFjPnEjsl3luFUGcLMzWP7vnI1e3tbF6qqmWhtPG8EHvoRGjT-ryt_cRCdzduW7Rr7z0bUW2W31Qsak=&xkcb=SoCt6_M3A2cDXGQHN50IbzkdCdPP&camk=CPChkbYSGj_zEd9a_9mO-w==&p=3&fvj=0&vjs=3\n",
      "https://fr.indeed.com/rc/clk?jk=bd74d6de808ab9bf&bb=JqS_DLfKNY6RKCnxUBoVotutBad3LzuYwO3PS-ZExx-Wee8gHf5_1a_tzA_nAnYHqcNIy8xaR276c1d0MlOw-qlG5s-xphjDVzDhwiIxAv9w9ZU-EdEidM7RIXv1frbt&xkcb=SoDX67M3A2cDXGQHN50PbzkdCdPP&fccid=f34c5c7a544de9ba&cmp=Cyber-University&ti=Data+Scientist&vjs=3\n",
      "https://fr.indeed.com/rc/clk?jk=375048444f546148&bb=JqS_DLfKNY6RKCnxUBoVorWcuMRKaOX--Xs6WalMGpsFwqBmd7NMeNuhx66epkYA58bxYANemu9rUm1TWk-a_Lzul9HxMPG0BGcitdjPFGqdQo2APVqGk4S5ARP2ZqOJ&xkcb=SoBj67M3A2cDXGQHN50ObzkdCdPP&fccid=43a69183767d4301&vjs=3\n",
      "https://fr.indeed.com/rc/clk?jk=f9fcb0cc4bf45e68&bb=JqS_DLfKNY6RKCnxUBoVoo9659Ssq_bPzsINvusd8uCIjGPy9a2QeJVMB5y4b_FUgpUC-UnPh_HrGjEp5NtLSElMMG_3gwINHTyaHXlpFiyISrqdt38MF9YCsvrsArJU&xkcb=SoD-67M3A2cDXGQHN50NbzkdCdPP&fccid=f34c5c7a544de9ba&cmp=Cyber-University&ti=Ing%C3%A9nieur+Cloud&vjs=3\n",
      "https://fr.indeed.com/rc/clk?jk=d820c3f5de7e34e7&bb=JqS_DLfKNY6RKCnxUBoVovV1CY6K6_yaktkwaqp8KJ_XU6rihWkMiKU5oBmjt71eey3rXrpxXqF3WJvzVFDb6BZ1yRN5pAE8LA2GqsFRdYzy6vgW1o8Ai7b4SCHeqcKo&xkcb=SoBK67M3A2cDXGQHN50MbzkdCdPP&fccid=4839e747528a8aaa&cmp=K%25C3%25A9oni-Consulting&ti=Data+Scientist&vjs=3\n",
      "https://fr.indeed.com/rc/clk?jk=2c18737bab2d156e&bb=JqS_DLfKNY6RKCnxUBoVovNsjuHp4vjXYxPvpnuTsc0cKWr9IRTNmZwOWb3NM8w0llUOCq4Yn6DWWPVg45YrdMLiM1GAhqu8YdfrkilxnwEm5jvsohFY5tSURbejyKzi&xkcb=SoCj67M3A2cDXGQHN50DbzkdCdPP&fccid=ed9a49290f4864f8&vjs=3\n",
      "https://fr.indeed.com/pagead/clk?mo=r&ad=-6NYlbfkN0Bj-xBWVmzs7UIwFa-9Zm6MwNuQFkwLehssDYDaWnvIcfjKVL75wTjLGJ3jojx5r8Hh-k-jFEJOLU5mNXywHSw1SevStY5qYzQBTljr3zGtKpyo-fV9DJQSpRLGhYRYboVNY9OOSJvUwQQzrh8Lhbt3pd7yUNfMl0vvmxLuKRzou-PG_qmL9GjH8GDHOdWEPayS_dzlPqTjZ6gWsqVJuXo2afiTD5EltVprhy9JT3QnPLFbZb1SQ_F3niXT0TxF0RDbTNaL_SaMdBsqBA0wLR4XL06GbboI_GYkM78TKHObUZcbuiWczm1pIlI3-rgZkxj_OQHkWf2tmKoZvDZhEeS2SO2NlXJ2vXbxxOnqY4R1r8YQZd6wRFA_p8KFXDG5mhQvj3tO4nFv9UjciCl2_S2EdE8Yg6c0mDVdVhR9C6jL_sR5sQgTWOiZcNDMlV9NhD_Rf2KALvbX1QtY-46sGh2xB9mUNQ94Fm8nfzqwzeujgANG0Zvoww0UsEvjZu4nOsD7aFVm5B6k7qL3IdVfwWF-8AvEnOO1pvwZwJC0DUCxaWq0IbE2XRJJfIA0N_x5zv0HvpeTjoC8t_di_x4XrX5sWh6UB5LMIopEOfqHnOipzDXDl4fDZxXWNIbNnCZPUPaYFlFbt9aw31zYdbGGUD1JjTdnlWlxLk2WK9RIuKwWb8mMiElWJ0J42HRDfH3q-qao1_X4uJSx6momDi4mfuPLmDVd_j73jGuv2z-OEDbIieY0Cwbcux2o4W9VnvQ8wNK_rVlVsCxpDGQWx2PWJR2OBdVqNcs1nQDs3LSvGzCYpPdKnrP-iiEdOxHWgTPTtbJwU2Xj7jEvsTne4CM5By-kXxL1R6-teqxhTHYp5QGmwD7qCimSzOa56x8j3jRp2DPMg1YS9tetZaoBgnazFRuq3QICIhe4U3LjEo9a1McVOgS1ULKXEuMdiKignfG8hbg=&xkcb=SoDj6_M3A2cDXGQHN50CbzkdCdPP&camk=CPChkbYSGj_zEd9a_9mO-w==&p=9&fvj=0&vjs=3\n",
      "https://fr.indeed.com/pagead/clk?mo=r&ad=-6NYlbfkN0BigZoPMoqziK6-nfI032PmDdpNpqGjtrtXhKuMV_PiEIqC8wIEZKyTNochUYZmaUxOxmmGbfHM_FpjPX9q0DNXOyOKOoe8SGmDAsrMCvRBx-v5rXQh9Ymo75RuI6txZXfJbH09-MlHXQ-M9-RkJAQDHJE1PoQpHSmhC0l5cCMvFDf7_dTB9GM0uYufpTN6Uf1TBiCLFc100YisC0_BdDOQVzd_U1acxUpJxemNrG1ctAADP_qYZUt8F22LyBbJC4tPJZCh9tqhZogxgr1ncpQX4OQbKkMgKo8z_LSRCfbbQeqW6YhDhm503SBCxCiKIdNiThAdgO-p2aIO6O8U0X4SdsxrxYLLu9fRADke191pmjygn0I3T8W7lPGtBMn9Zaz6FNbnq6MDaRgO3Ro6MLWgWeOCTAzTX5GWFjMoCFyitQ9ZQOR-_8FpOw7NpsEgNpaOEijV25M9i06sMvz9xRVCKUGuGWg_D6sPO0v9P2ZhtfLpM3XSzcC5S4_mhIh0pIoU9s5N5GV4WXSVYKVccYlsO10QnlTDUbXohP-zfUm8QQCuvr2JqwZ75MBJ4mf8a0SsTdDAuWhwnU8u3M9nvye-fIKjy3b7h_fhyOoMw8EvvNT1tAnqIAiagtE3SZ2xBBFR9EkkRFjRijSoquAJqtIgAa-SXrU7tOdcgnXOVj3j7-kG7MdR-gaSJMKE3eInJYAxFHX1268DWrJwJmJtoFKP0esQRxYALK9FU05j0ivlWt4KuJRuQpiG5zcM0CIZ84o=&xkcb=SoB-6_M3A2cDXGQHN50BbzkdCdPP&camk=4HOcmqOLYrBo2n-BgnSX3g==&p=10&fvj=0&vjs=3\n",
      "https://fr.indeed.com/pagead/clk?mo=r&ad=-6NYlbfkN0BO0nmJv-68ECtW3CH4mC22-GCFIlsBpENGmJlut4UOiAGoN524dbCkaQBsuldjVPtiqZK6RLku-nPegBSXUSIAt2n3DwaOt4fogtxOt_6Y4nnAUWseMQOFgqqqedKwMyiaseVhr1BWbEXSF4crZCfCjs7uFPsNQ8C_EnLgI6B29CUW6vr7_MzLookebFmqZp-rooXfJ7Ul9fOHBBGapYG1-2gN9KsxZvViwGhSibxge0-8gc8Vi1Q61AnUv8XrBB3-_tIEjtLRcnHuQ3QcNfG5gpCRpFfInoi4c17tTYcSSBZb-p6ul7r_RE7SUCcSVWYbT4H62zdeqQnHXfoBhEHkhQbM_YoTtjF7Vlzu8Doj3VL9ef5k6hSNnFp4mCEi-p3JIpPddhnlFSH_f47TfembElnfmcsqjEZMng4or9VAPQZ_AcofhE2I29T5--0nSnIbD106KQCJRZRFO3sJwu0v1S3xY9WxNNKLaobzzDd6hxukjbwLkuXmQTNiPeWcpyvuz6QOgCjhxmFa4sgAOAk0mCTQs944rkUbZF2z2kiQz3Ytx7Br_S4mleujTBRCL5PYXmDl3KReAVVzQr8O66489m7hoVcjLsxhKmH_T-VdvY-WBKcjS-tsNGTfopE0YTUrfSqKDMffZLqqI9GU51txQmNKdZ-F1HvJAnJZTQs7peVEiDhaY6o4VEqTnw6PhsqiUUZMzCDWZ8uTJTCJBLmmfk8xtf81i2bt9zrRCdmQdKftTUbhHe-9R2G16Gc7-XyTs83TYFWnQR2TM1jRhPMKHJ_i8XkWkqQU19usVzTq7g==&xkcb=SoDK6_M3A2cDXGQHN50AbzkdCdPP&camk=H-lBaXMUocIboyCbR4MUBA==&p=11&fvj=0&vjs=3\n",
      "https://fr.indeed.com/rc/clk?jk=45f6762ca3f8bfc7&bb=JqS_DLfKNY6RKCnxUBoVotpWGhrvZoXrm4EYbPTlUt4tucc9DHASmpahB_NIoWh7OLzmUWVSM0G8mVJ_yW5BOslDWrKPZNue4DPM8lAlybCDT4iHw4vSuvwynX-jaKsP&xkcb=SoAE67M3A2cDXGQHN50GbzkdCdPP&fccid=8397d27fa71913c8&vjs=3\n",
      "https://fr.indeed.com/rc/clk?jk=a8178647cb7a8e3d&bb=JqS_DLfKNY6RKCnxUBoVon7MHxIvPvPeWg0Z1JBIG2iWk72tGCkX07xvt2enwWG5Fm0u4XzyJklAj5YgPAp3LEOCADZE-wFgfH5b7VIESb3mK37jnXyAT6szB7QGnJuY&xkcb=SoCZ67M3A2cDXGQHN50FbzkdCdPP&fccid=e2c87df4c39bd84a&vjs=3\n"
     ]
    }
   ],
   "source": [
    "df = pd.DataFrame({}, columns=[\"title\", \"company\", \"city\", \"min_salary\", \"max_salary\", \"frequency\"])\n",
    "\n",
    "resp = requests.get(url, headers=headers)\n",
    "# Détecter l'encodage spécifié dans les headers\n",
    "content_type = resp.headers.get('Content-Type', '')\n",
    "print(content_type)\n",
    "encoding = 'utf-8'  # Encodage par défaut\n",
    "if 'charset=' in content_type:\n",
    "    encoding = content_type.split('charset=')[-1]\n",
    "# Décompresser le contenu si encodé en Brotli\n",
    "if resp.headers.get('Content-Encoding') == 'br':\n",
    "    try:\n",
    "        decompressed_content = brotli.decompress(resp.content)\n",
    "        text = decompressed_content.decode(encoding)\n",
    "    except Exception as e:\n",
    "        print(\"Error decompressing content:\", e)\n",
    "        text = resp.text\n",
    "else:\n",
    "    text = resp.text  # Utiliser la méthode text qui gère automatiquement l'encodage\n",
    "# Parser le contenu HTML avec BeautifulSoup\n",
    "soup = Soup(text, \"html.parser\")\n",
    "\n",
    "contents = soup.find_all(\"li\", {\"class\": \"css-5lfssm eu4oa1w0\"})\n",
    "\n",
    "for element in contents[:-1]:\n",
    "    element_dict={}\n",
    "    head = element.find(\"h2\", {\"class\": \"jobTitle css-198pbd eu4oa1w0\"})\n",
    "    location = element.find(\"div\", {\"class\": \"company_location css-17fky0v e37uo190\"})\n",
    "    if head is not None:\n",
    "        title = head.find(\"span\")[\"title\"]\n",
    "        element_dict[\"title\"] = title\n",
    "    else:\n",
    "        continue\n",
    "    if location is not None:\n",
    "        company_name = location.find(\"span\", {\"data-testid\":\"company-name\" , \"class\": \"css-63koeb eu4oa1w0\"})\n",
    "        if company_name is not None:\n",
    "            element_dict[\"company\"] = company_name.text\n",
    "        city = location.find(\"div\", {\"data-testid\":\"text-location\" , \"class\": \"css-1p0sjhy eu4oa1w0\"})\n",
    "        if city is not None:\n",
    "            element_dict[\"city\"] = city.text\n",
    "    metadata = element.find(\"div\", {\"class\":\"heading6 tapItem-gutter metadataContainer css-z5ecg7 eu4oa1w0\"})\n",
    "    if metadata is not None:\n",
    "        salary_block = metadata.find(\"div\", {\"class\":\"metadata salary-snippet-container css-5zy3wz eu4oa1w0\"})\n",
    "        if salary_block is not None:\n",
    "            salary = salary_block.find(\"div\", {\"data-testid\":\"attribute_snippet_testid\", \"class\":\"css-1cvvo1b eu4oa1w0\"})\n",
    "            boundaries = salary.text.split(\"€\")[:-1]\n",
    "            frequency = salary.text.split(\" \")[-1]\n",
    "            frequency_map = {\"mois\":\"mensuel\", \"an\":\"annuel\"}\n",
    "            element_dict[\"frequency\"] = frequency_map.get(frequency, \"autre\")\n",
    "            for boundary in boundaries:\n",
    "                if \"de\" in boundary.lower():\n",
    "                    element_dict[\"min_salary\"] = \"\".join(filter(str.isdigit, boundary))\n",
    "                elif \"à\" in boundary.lower():\n",
    "                    element_dict[\"max_salary\"] = \"\".join(filter(str.isdigit, boundary))\n",
    "\n",
    "    url_job = \"https://fr.indeed.com\" + element.find(\"a\", {\"class\":\"jcs-JobTitle css-jspxzf eu4oa1w0\"})[\"href\"]\n",
    "    print(url_job)\n",
    "    if any(element_dict.values()):\n",
    "        df = pd.concat([df, pd.DataFrame(element_dict, index=[0])], ignore_index=True)"
   ]
  },
  {
   "cell_type": "code",
   "execution_count": 6,
   "metadata": {},
   "outputs": [],
   "source": [
    "df.to_csv(\"data.csv\", index=False, sep=\";\", encoding=\"utf-8\")"
   ]
  },
  {
   "cell_type": "code",
   "execution_count": 10,
   "metadata": {},
   "outputs": [
    {
     "data": {
      "text/plain": [
       "<li class=\"css-5lfssm eu4oa1w0\"><!--$--><div class=\"cardOutline tapItem dd-privacy-allow result job_a8178647cb7a8e3d resultWithShelf sponTapItem desktop css-yria2i eu4oa1w0\"><div class=\"slider_container css-12igfu2 eu4oa1w0\" data-testid=\"slider_container\" dir=\"auto\"><div class=\"slider_list css-ltdjbe eu4oa1w0\"><div class=\"slider_item css-mk9n32 eu4oa1w0\" data-testid=\"slider_item\"><div class=\"job_seen_beacon\"><table cellpadding=\"0\" cellspacing=\"0\" class=\"big6_visualChanges css-1v79ar eu4oa1w0\" role=\"presentation\"><tbody><tr><td class=\"resultContent css-1qwrrf0 eu4oa1w0\"><div class=\"css-dekpa e37uo190\"><h2 class=\"jobTitle css-198pbd eu4oa1w0\" tabindex=\"-1\"><a aria-label=\"tous les détails sur « Data Engineer - Alternance (F/H/NB) »\" class=\"jcs-JobTitle css-jspxzf eu4oa1w0\" data-hide-spinner=\"true\" data-hiring-event=\"false\" data-jk=\"a8178647cb7a8e3d\" data-mobtk=\"1hvm9jaqaiem582v\" href=\"/rc/clk?jk=a8178647cb7a8e3d&amp;bb=LmZvKr7gedvhmVdf2HrEmPakqs2Z79Wfw3s8YDcTjMSDDEGI_8LlKpsLtMb12-h3ERcGyGHolSudLDRWFiH7KfK7ovuzf-nj7koG8pEl8ZtMJDHlE7Tfx0xWWSxrn1QD&amp;xkcb=SoBa67M3A2bChpxr7p0EbzkdCdPP&amp;fccid=e2c87df4c39bd84a&amp;vjs=3\" id=\"job_a8178647cb7a8e3d\" role=\"button\"><span id=\"jobTitle-a8178647cb7a8e3d\" title=\"Data Engineer - Alternance (F/H/NB)\">Data Engineer - Alternance (F/H/NB)</span></a></h2><div class=\"css-1hlnck6 e37uo190\"></div></div><div class=\"company_location css-17fky0v e37uo190\"><div data-testid=\"timing-attribute\"><div class=\"css-1qv0295 e37uo190\"><span class=\"css-63koeb eu4oa1w0\" data-testid=\"company-name\">Believe</span></div><div class=\"css-1p0sjhy eu4oa1w0\" data-testid=\"text-location\">Paris (75)</div></div></div><div class=\"jobMetaDataGroup css-pj786l eu4oa1w0\"><div class=\"heading6 tapItem-gutter metadataContainer css-z5ecg7 eu4oa1w0\"><div class=\"metadata css-5zy3wz eu4oa1w0\"><div class=\"css-1cvvo1b eu4oa1w0\" data-testid=\"attribute_snippet_testid\">Temps plein</div></div></div><div class=\"heading6 error-text tapItem-gutter\"></div></div></td><td class=\"css-biqn32 eu4oa1w0\"><style data-emotion=\"mosaic-provider-jobcards-global 1r54ni4\">:root{--reach-menu-button:1;}</style><button aria-haspopup=\"true\" aria-label=\"Job actions for Data Engineer - Alternance (F/H/NB) is collapsed\" class=\"e8ju0x51 mosaic-provider-jobcards-1kkwgax ex6cvhv1\" data-reach-menu-button=\"\" id=\"menu-button--jobActionMenu-a8178647cb7a8e3d\" title=\"More\" type=\"button\"><svg aria-hidden=\"true\" class=\"mosaic-provider-jobcards-1luvpuv eac13zx0\" fill=\"currentColor\" focusable=\"false\" role=\"img\" viewbox=\"0 0 24 24\" xmlns=\"http://www.w3.org/2000/svg\"><path d=\"M12 7c1.1 0 2-.9 2-2s-.9-2-2-2-2 .9-2 2 .9 2 2 2zm0 3c-1.1 0-2 .9-2 2s.9 2 2 2 2-.9 2-2-.9-2-2-2zm0 7c-1.1 0-2 .9-2 2s.9 2 2 2 2-.9 2-2-.9-2-2-2z\"></path></svg></button></td></tr></tbody></table><div class=\"css-1u8dvic eu4oa1w0\" role=\"presentation\"><div class=\"css-10vq04l eu4oa1w0\"><span class=\"css-wftrf9 eu4oa1w0\"><span class=\"iaIcon css-pu2c8l eu4oa1w0\"><svg aria-hidden=\"true\" class=\"mosaic-provider-jobcards-1tvjh98 eac13zx0\" fill=\"currentColor\" focusable=\"false\" role=\"img\" viewbox=\"0 0 24 24\" xmlns=\"http://www.w3.org/2000/svg\"><path d=\"M2.344 4.018a.25.25 0 00-.33.31l1.897 5.895a.5.5 0 00.371.335l7.72 1.44-7.72 1.44a.5.5 0 00-.371.335l-1.898 5.896a.25.25 0 00.33.31l19.494-7.749a.25.25 0 000-.464L2.344 4.018z\"></path></svg></span><span class=\"ialbl iaTextBlack css-130a5xa eu4oa1w0\" data-testid=\"indeedApply\">Candidature simplifiée</span></span></div><div class=\"underShelfFooter\"><div class=\"heading6 tapItem-gutter css-193h767 eu4oa1w0\"><div class=\"css-9446fg eu4oa1w0\"><ul style=\"list-style-type:circle;margin-top: 0px;margin-bottom: 0px;padding-left:20px;\">\n",
       "<li style=\"margin-bottom:0px;\">Tu participeras aux rituels de l’équipe et seras accompagné par nos <b>data</b> engineers.</li>\n",
       "<li>Believe est l'un des leaders mondiaux du marché de la musique numérique.</li>\n",
       "</ul></div><span class=\"css-qvloho eu4oa1w0\" data-testid=\"myJobsStateDate\"><span class=\"css-10pe3me eu4oa1w0\">Posted</span>Offre publiée il y a 8 jour</span><span class=\"css-opxvw7 eu4oa1w0\">·</span><button aria-expanded=\"false\" class=\"sl resultLink css-ff8z8x eu4oa1w0\" data-testid=\"more_links_button\" type=\"button\">plus...</button></div><div class=\"css-6iwpn6 eu4oa1w0\"><div class=\"result-tab css-9pzb1s eu4oa1w0\"><div class=\"css-ldptw eu4oa1w0\" data-testid=\"more_links\"><button aria-label=\"Close\" class=\"css-1dvqyzs eu4oa1w0\" title=\"Close\" type=\"button\"></button><ul><li><span class=\"mat\">Voir toutes les offres de type « <a class=\"css-1f8zkg3 e19afand0\" href=\"/q-believe-emplois.html\">Emploi Believe</a> », « <a class=\"css-1f8zkg3 e19afand0\" href=\"/l-paris-(75)-emplois.html\">Paris »</a> ou <a class=\"css-1f8zkg3 e19afand0\" href=\"/q-data-scientist-(h-f)-l-paris-(75)-emplois.html\">Emploi Data Scientist (H/F) - Paris (75)</a> »</span></li><li><span class=\"mat\">Rechercher les salaires : <a class=\"mosaic-provider-jobcards-1f8zkg3 e19afand0\" href=\"/career/data-scientist/salaries/Paris-(75)?campaignid=serp-more&amp;fromjk=a8178647cb7a8e3d&amp;from=serp-more\">Data Engineer - Alternance (F/H/NB)  - Paris (75)</a></span></li><li><span class=\"mat\">Consulter les <a class=\"mosaic-provider-jobcards-1f8zkg3 e19afand0\" href=\"/cmp/Believe-965b1690/faq\">questions fréquentes sur Believe et leurs réponses</a></span></li></ul></div></div></div></div></div><div class=\"ctaContainer\"></div><div aria-live=\"polite\"></div></div></div></div></div></div><span aria-live=\"polite\" class=\"visually-hidden css-10pe3me eu4oa1w0\"></span><!--/$--></li>"
      ]
     },
     "execution_count": 10,
     "metadata": {},
     "output_type": "execute_result"
    }
   ],
   "source": [
    "element"
   ]
  }
 ],
 "metadata": {
  "kernelspec": {
   "display_name": "Python 3",
   "language": "python",
   "name": "python3"
  },
  "language_info": {
   "codemirror_mode": {
    "name": "ipython",
    "version": 3
   },
   "file_extension": ".py",
   "mimetype": "text/x-python",
   "name": "python",
   "nbconvert_exporter": "python",
   "pygments_lexer": "ipython3",
   "version": "3.10.7"
  }
 },
 "nbformat": 4,
 "nbformat_minor": 2
}
